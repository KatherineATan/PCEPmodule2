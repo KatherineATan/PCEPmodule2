{
 "cells": [
  {
   "cell_type": "markdown",
   "metadata": {},
   "source": [
    "## Exercises\n",
    "### Write the pseudocode for these problems. \n",
    "\n",
    "#### Define the problem by constructing an IPO diagram showing input, output, and processing steps\n",
    "Ask yourself\n",
    "- What control structures (sequence, selection and repetition) are required?\n",
    "- What variables are required?\n",
    "\n",
    "Show a check of your solution with **test data** for at least **two valid test cases**\n",
    "If you use the numbers provided in the example then the correct pseudocode will calculate the same result.\n",
    "    "
   ]
  },
  {
   "cell_type": "markdown",
   "metadata": {},
   "source": [
    "#### 1. Find the average score\n",
    "A program is needed to prompt the user operator for exam scores, calculate the average score and display the result to the screen. The average score is calculated as the sum of the scores divided by the number of scores."
   ]
  },
  {
   "cell_type": "markdown",
   "metadata": {},
   "source": [
    "start\n",
    "    ask user for scores\n",
    "    get scores\n",
    "    add scores together\n",
    "    divide by how many scores were submitted\n",
    "    print average (which was the result)\n",
    "end"
   ]
  },
  {
   "cell_type": "markdown",
   "metadata": {},
   "source": [
    "#### 2. How much water runs off a roof in a rain storm?\n",
    "To calculate the runoff from any given rainfall: Take the dimensions of the footprint of the roof and convert them to inches. (So, a 50' x 20' roof is 600\" x 240\"). Multiply the roof dimensions by the number of inches of rainfall. As an example, 600\" x 240\" x 1\" = 144,000 cubic inches of water for an inch of rainfall. Divide that result by 231 to get the number of gallons (because 1 gallon = 231 cubic inches). (144,000/231 = 623.38)."
   ]
  },
  {
   "cell_type": "markdown",
   "metadata": {},
   "source": [
    "start\n",
    "    get the length of the roof in feet\n",
    "    convert to inches by multiplying the length in feet by 12 in/ft \n",
    "    get the width of the roof\n",
    "    convert to inches by multiplying the width in feet by 12 in/ft\n",
    "    get the number of inches of rainfall\n",
    "    multiply the number of inches of rainfall by the length and width of the roof in inches\n",
    "    divide the resulting number by 231 to get the number of gallons of runoff\n",
    "end"
   ]
  },
  {
   "cell_type": "markdown",
   "metadata": {},
   "source": [
    "#### 3. Process customer record\n",
    "A program is required to read a customer’s name, a purchase amount and a tax code. The tax code has been validated and will be one of the following: 0 tax exempt (0%) 1 state sales tax only (3%) 2 federal and state sales tax (5%) 3 special sales tax (7%) The program must then compute the sales tax and the total amount due,and print the customer’s name, purchase amount, sales tax and total amount due."
   ]
  },
  {
   "cell_type": "markdown",
   "metadata": {},
   "source": [
    "start\n",
    "    ask for the customer name\n",
    "    get the customer name\n",
    "    ask for the purchase amount\n",
    "    get the purchase amount\n",
    "    ask for a tax code\n",
    "    get the tax code\n",
    "    if the tax code is 0:\n",
    "        multiply the purchase amount by 0\n",
    "        sales tax = result\n",
    "    else if the tax code is 1:\n",
    "        multiply the purchase amount by 0.03\n",
    "        sales tax = result\n",
    "    else if the tax code is 2:\n",
    "        multiply the purchase amount by 0.05\n",
    "        sales tax = result\n",
    "    else if the tax code is 3:\n",
    "        multiply the purchase amount by 0.07\n",
    "        sales tax = result\n",
    "    end if statement\n",
    "    total amount due = purchase amount + sales tax\n",
    "    print the customer name\n",
    "    print the purchase amount\n",
    "    print the sales tax\n",
    "    print the total amount due\n",
    "end"
   ]
  },
  {
   "cell_type": "markdown",
   "metadata": {},
   "source": [
    "#### 4. Calculate employee's pay \n",
    "A program is required by a company to read an employee’s number, pay rate and the number of hours worked in a week. The program is then to validate the pay rate field and the hours worked field and, if valid, compute the employee’s weekly pay and then print it and the input data.\n",
    "\n",
    "Validation: According to the company’s rules, the maximum hours an employee can work per week is 60 hours, and the maximum hourly rate is $25.00 per hour. If the hours worked field or the hourly rate field is out of range, the input data and an appropriate message are to be printed and the employee’s weekly pay is not to be calculated.\n",
    "\n",
    "Weekly pay calculation: Weekly pay is calculated as hours worked times pay rate. If more than 35 hours are worked, payment for the overtime hours worked is calculated at time-and-a-half."
   ]
  },
  {
   "cell_type": "markdown",
   "metadata": {},
   "source": [
    "start\n",
    "    ask for input of the employee’s number\n",
    "    get the employee’s number\n",
    "    ask for input of the pay rate\n",
    "    get the pay rate\n",
    "    ask for input of the number of hours worked in a week\n",
    "    get the number of hours worked in a week\n",
    "    if numbers of hours worked ≤ 60 hrs:\n",
    "        number of hours is valid\n",
    "    if pay rate ≤ $25.00 per hour\n",
    "        pay rate is valid\n",
    "    if number of hours and pay rate is valid\n",
    "        employee's weekly pay = pay rate * number of hours worked in a week\n",
    "        print employee's weekly pay\n",
    "        print employee’s number\n",
    "        print pay rate\n",
    "        print number of hours worked in a week\n",
    "    else\n",
    "        dont calculate\n",
    "        print message about what is out of range\n",
    "end"
   ]
  }
 ],
 "metadata": {
  "kernelspec": {
   "display_name": "Python 3",
   "language": "python",
   "name": "python3"
  },
  "language_info": {
   "codemirror_mode": {
    "name": "ipython",
    "version": 3
   },
   "file_extension": ".py",
   "mimetype": "text/x-python",
   "name": "python",
   "nbconvert_exporter": "python",
   "pygments_lexer": "ipython3",
   "version": "3.8.8"
  }
 },
 "nbformat": 4,
 "nbformat_minor": 4
}
